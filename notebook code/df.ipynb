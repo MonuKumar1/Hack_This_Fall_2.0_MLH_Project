{
 "cells": [
  {
   "cell_type": "code",
   "execution_count": 16,
   "metadata": {},
   "outputs": [],
   "source": [
    "import pandas as pd"
   ]
  },
  {
   "cell_type": "code",
   "execution_count": 21,
   "metadata": {},
   "outputs": [],
   "source": [
    "df = pd.read_csv('data_mlh.csv')"
   ]
  },
  {
   "cell_type": "code",
   "execution_count": 22,
   "metadata": {},
   "outputs": [
    {
     "data": {
      "text/html": [
       "<div>\n",
       "<style scoped>\n",
       "    .dataframe tbody tr th:only-of-type {\n",
       "        vertical-align: middle;\n",
       "    }\n",
       "\n",
       "    .dataframe tbody tr th {\n",
       "        vertical-align: top;\n",
       "    }\n",
       "\n",
       "    .dataframe thead th {\n",
       "        text-align: right;\n",
       "    }\n",
       "</style>\n",
       "<table border=\"1\" class=\"dataframe\">\n",
       "  <thead>\n",
       "    <tr style=\"text-align: right;\">\n",
       "      <th></th>\n",
       "      <th>Category</th>\n",
       "      <th>Name</th>\n",
       "      <th>Date/Time</th>\n",
       "      <th>Length</th>\n",
       "      <th>Link</th>\n",
       "      <th>Image</th>\n",
       "      <th>Location</th>\n",
       "      <th>Type</th>\n",
       "    </tr>\n",
       "  </thead>\n",
       "  <tbody>\n",
       "    <tr>\n",
       "      <th>0</th>\n",
       "      <td>MLH</td>\n",
       "      <td>DubHacks</td>\n",
       "      <td>Oct 23rd - 24th        ( EST )</td>\n",
       "      <td>1 days</td>\n",
       "      <td>https://dh21.dubhacks.co/</td>\n",
       "      <td>https://s3.amazonaws.com/assets.mlh.io/events/...</td>\n",
       "      <td>Everywhere, Worldwide</td>\n",
       "      <td>Digital Only</td>\n",
       "    </tr>\n",
       "  </tbody>\n",
       "</table>\n",
       "</div>"
      ],
      "text/plain": [
       "  Category      Name                       Date/Time  Length  \\\n",
       "0      MLH  DubHacks  Oct 23rd - 24th        ( EST )  1 days   \n",
       "\n",
       "                        Link  \\\n",
       "0  https://dh21.dubhacks.co/   \n",
       "\n",
       "                                               Image               Location  \\\n",
       "0  https://s3.amazonaws.com/assets.mlh.io/events/...  Everywhere, Worldwide   \n",
       "\n",
       "           Type  \n",
       "0  Digital Only  "
      ]
     },
     "execution_count": 22,
     "metadata": {},
     "output_type": "execute_result"
    }
   ],
   "source": [
    "df[:1]\n"
   ]
  },
  {
   "cell_type": "code",
   "execution_count": 23,
   "metadata": {},
   "outputs": [],
   "source": [
    "session = {'Login':False, 'Loaded':True, 'Catagory':None, 'Stage':0}\n"
   ]
  },
  {
   "cell_type": "code",
   "execution_count": 25,
   "metadata": {},
   "outputs": [
    {
     "name": "stdout",
     "output_type": "stream",
     "text": [
      "Category: *MLH*\n",
      "Name: *HackUMBC*\n",
      "Date/Time: *Oct 29th - 31st        ( EST )*\n",
      "Length: *2 days*\n",
      "Link: *https://www.hackumbc.org/*\n",
      "Location: *Everywhere, Worldwide*\n",
      "Type: *Hybrid, Digital Focus*\n",
      "\n",
      "\n",
      "=============================================\n",
      "\n",
      "Category: *MLH*\n",
      "Name: *VolHacks*\n",
      "Date/Time: *Oct 29th - 31st        ( EST )*\n",
      "Length: *2 days*\n",
      "Link: *https://volhacks.org/*\n",
      "Location: *Knoxville, Tennessee*\n",
      "Type: *Hybrid, In-Person Focus*\n",
      "\n",
      "\n",
      "=============================================\n",
      "\n",
      "Category: *MLH*\n",
      "Name: *HackTX*\n",
      "Date/Time: *Oct 30th - 31st        ( EST )*\n",
      "Length: *1 days*\n",
      "Link: *https://hacktx.com/*\n",
      "Location: *Everywhere, Worldwide*\n",
      "Type: *Hybrid, Digital Focus*\n",
      "\n",
      "\n",
      "=============================================\n",
      "\n",
      "Category: *MLH*\n",
      "Name: *Agent:Hacker*\n",
      "Date/Time: *Nov 5th - 7th        ( EST )*\n",
      "Length: *2 days*\n",
      "Link: *https://organize.mlh.io/participants/events/7562-agent-hacker*\n",
      "Location: *Everywhere, Worldwide*\n",
      "Type: *Digital Only*\n",
      "\n",
      "\n",
      "=============================================\n",
      "\n",
      "Category: *MLH*\n",
      "Name: *Hack K-State*\n",
      "Date/Time: *Nov 5th - 7th        ( EST )*\n",
      "Length: *2 days*\n",
      "Link: *https://hackkstate.tech/*\n",
      "Location: *Manhattan, Kansas*\n",
      "Type: *Hybrid, In-Person Focus*\n",
      "\n",
      "\n",
      "=============================================\n",
      "\n"
     ]
    }
   ],
   "source": [
    "i = session['Stage']\n",
    "session['Stage']=session['Stage']+5\n",
    "# print('i=',i, ' --- ', 'new stage= ', session['Stage'])\n",
    "while i<session['Stage']:\n",
    "    print('Category: '+ '*'+ df.iloc[i, :]['Category'] +'*'+'\\n' +'Name: ' + '*'+df.iloc[i, :]['Name']  +'*'+'\\n' +      'Date/Time: ' +'*'+df.iloc[i, :]['Date/Time']   +'*'+'\\n' + 'Length: ' +'*'+df.iloc[i, :]['Length']     +'*'+'\\n' +  'Link: '+   '*'+df.iloc[i, :]['Link']      +'*'+'\\n' +  'Location: ' + '*'+df.iloc[i, :]['Location'] +'*'+'\\n' +       'Type: ' + '*'+df.iloc[i, :]['Type']  + '*'+'\\n'  )\n",
    "    # print('Category: '+ '*'+ df.iloc[i, :]['Category'] +'*'+'\\n' +'Name: ' + '*'+df.iloc[i, :]['Name']  +'*'+'\\n' +      'Status: ' +'*'+df.iloc[i, :]['Status']   +'*'+'\\n' + 'Link: '+   '*'+df.iloc[i, :]['Link']      +'*'+'\\n' +  'Type: ' + '*'+df.iloc[i, :]['Type']  + '*'+'\\n' + 'Company: ' + '*'+df.iloc[i, :]['Company']  + '*'+'\\n'+ 'Registrations: ' + '*'+  str( df.iloc[i, :]['Registration'] ) + '*'+'\\n'  )\n",
    "    print('\\n=============================================\\n')\n",
    "    i+=1"
   ]
  }
 ],
 "metadata": {
  "interpreter": {
   "hash": "e2cc4dca9d1bf8a2cacb486f34126d3f63f1c8e82f14ac2e50c42633beb1eaa4"
  },
  "kernelspec": {
   "display_name": "Python 3.8.8 64-bit ('base': conda)",
   "name": "python3"
  },
  "language_info": {
   "codemirror_mode": {
    "name": "ipython",
    "version": 3
   },
   "file_extension": ".py",
   "mimetype": "text/x-python",
   "name": "python",
   "nbconvert_exporter": "python",
   "pygments_lexer": "ipython3",
   "version": "3.8.8"
  },
  "orig_nbformat": 4
 },
 "nbformat": 4,
 "nbformat_minor": 2
}
